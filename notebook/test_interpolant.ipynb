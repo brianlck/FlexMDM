{
 "cells": [
  {
   "cell_type": "code",
   "execution_count": 1,
   "id": "af26c690",
   "metadata": {},
   "outputs": [],
   "source": [
    "from interpolant import AnyOrderMaskInsertionInterpolant\n",
    "import torch\n",
    "from schedule import LinearSchedule"
   ]
  },
  {
   "cell_type": "code",
   "execution_count": 34,
   "id": "6c834d3f",
   "metadata": {},
   "outputs": [
    {
     "data": {
      "text/plain": [
       "(tensor([[0, 3, 3, 3, 3],\n",
       "         [0, 0, 3, 3, 3]]),\n",
       " tensor([[0, 6, 6, 6, 6],\n",
       "         [0, 3, 6, 6, 6]]))"
      ]
     },
     "execution_count": 34,
     "metadata": {},
     "output_type": "execute_result"
    }
   ],
   "source": [
    "mask_token = 0\n",
    "pad_token = 3\n",
    "max_length = 5\n",
    "mask_schedule = LinearSchedule()\n",
    "interpolant = AnyOrderMaskInsertionInterpolant(mask_schedule, 3, 0, 3, 5)\n",
    "t = torch.Tensor([0.4])\n",
    "x1 = torch.Tensor([[1, 2, 3, 3, 3], [1, 2, 2, 1, 3]]).to(torch.int64)\n",
    "xt, st = interpolant.sample_interpolant(t, x1)\n",
    "xt, st"
   ]
  },
  {
   "cell_type": "code",
   "execution_count": 36,
   "id": "4acb9fa0",
   "metadata": {},
   "outputs": [
    {
     "name": "stdout",
     "output_type": "stream",
     "text": [
      "torch.Size([2, 5, 3]) torch.Size([2, 1, 5]) torch.Size([2, 5]) torch.Size([2, 5, 1])\n",
      "tensor([[1, 2, 2, 2, 2],\n",
      "        [1, 1, 2, 2, 2]]) tensor([[[1.6667],\n",
      "         [0.0000],\n",
      "         [0.0000],\n",
      "         [0.0000],\n",
      "         [0.0000]],\n",
      "\n",
      "        [[1.6667],\n",
      "         [1.6667],\n",
      "         [0.0000],\n",
      "         [0.0000],\n",
      "         [0.0000]]])\n",
      "sorted_st tensor([[0, 6, 6, 6, 6],\n",
      "        [0, 3, 6, 6, 6]])\n",
      "sorted_clamped tensor([[0, 2, 2, 2, 2],\n",
      "        [0, 3, 4, 4, 4]])\n",
      "padded tensor([[-1,  0,  2,  2,  2,  2,  2],\n",
      "        [-1,  0,  3,  4,  4,  4,  4]])\n",
      "gap_counts tensor([[0, 1, 0, 0, 0, 0],\n",
      "        [0, 2, 0, 0, 0, 0]])\n"
     ]
    }
   ],
   "source": [
    "reparametrised_rate = interpolant.reparametrised_conditional_rate(xt, st, t, x1)"
   ]
  },
  {
   "cell_type": "code",
   "execution_count": 38,
   "id": "44072b22",
   "metadata": {},
   "outputs": [
    {
     "data": {
      "text/plain": [
       "tensor([[[1., 0., 0., 0., 0., 0.],\n",
       "         [0., 1., 0., 0., 0., 0.],\n",
       "         [1., 0., 0., 0., 0., 0.],\n",
       "         [1., 0., 0., 0., 0., 0.],\n",
       "         [1., 0., 0., 0., 0., 0.],\n",
       "         [1., 0., 0., 0., 0., 0.]],\n",
       "\n",
       "        [[1., 0., 0., 0., 0., 0.],\n",
       "         [0., 0., 1., 0., 0., 0.],\n",
       "         [1., 0., 0., 0., 0., 0.],\n",
       "         [1., 0., 0., 0., 0., 0.],\n",
       "         [1., 0., 0., 0., 0., 0.],\n",
       "         [1., 0., 0., 0., 0., 0.]]])"
      ]
     },
     "execution_count": 38,
     "metadata": {},
     "output_type": "execute_result"
    }
   ],
   "source": [
    "reparametrised_rate.length_posterior"
   ]
  },
  {
   "cell_type": "code",
   "execution_count": null,
   "id": "c04150ba",
   "metadata": {},
   "outputs": [],
   "source": []
  },
  {
   "cell_type": "code",
   "execution_count": null,
   "id": "e831e031",
   "metadata": {},
   "outputs": [],
   "source": []
  }
 ],
 "metadata": {
  "kernelspec": {
   "display_name": ".venv",
   "language": "python",
   "name": "python3"
  },
  "language_info": {
   "codemirror_mode": {
    "name": "ipython",
    "version": 3
   },
   "file_extension": ".py",
   "mimetype": "text/x-python",
   "name": "python",
   "nbconvert_exporter": "python",
   "pygments_lexer": "ipython3",
   "version": "3.11.5"
  }
 },
 "nbformat": 4,
 "nbformat_minor": 5
}
