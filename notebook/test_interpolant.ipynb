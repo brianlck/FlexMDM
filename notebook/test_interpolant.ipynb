{
 "cells": [
  {
   "cell_type": "code",
   "execution_count": 50,
   "id": "af26c690",
   "metadata": {},
   "outputs": [],
   "source": [
    "from interpolant import SemiAutoregressiveInterpolant\n",
    "import torch\n",
    "from schedule import LinearSchedule, GeometricSchedule"
   ]
  },
  {
   "cell_type": "code",
   "execution_count": 84,
   "id": "6c834d3f",
   "metadata": {},
   "outputs": [
    {
     "data": {
      "text/plain": [
       "(tensor([[1., 3., 3., 3., 3.],\n",
       "         [3., 3., 3., 3., 3.]]),\n",
       " tensor([[0, 6, 6, 6, 6],\n",
       "         [6, 6, 6, 6, 6]]))"
      ]
     },
     "execution_count": 84,
     "metadata": {},
     "output_type": "execute_result"
    }
   ],
   "source": [
    "mask_token = 0\n",
    "pad_token = 3\n",
    "max_length = 5\n",
    "mask_schedule = LinearSchedule()\n",
    "interpolant = SemiAutoregressiveInterpolant(mask_schedule, 3, 0, 3, 5)\n",
    "interpolant.sample_interpolant(torch.Tensor([0.5]), torch.Tensor([[1, 2, 3, 3, 3], [1, 2, 2, 1, 3]]))"
   ]
  },
  {
   "cell_type": "code",
   "execution_count": null,
   "id": "c04150ba",
   "metadata": {},
   "outputs": [],
   "source": [
    "from model.transformer import SemiAutoregressiveFlow"
   ]
  },
  {
   "cell_type": "code",
   "execution_count": null,
   "id": "e831e031",
   "metadata": {},
   "outputs": [],
   "source": []
  }
 ],
 "metadata": {
  "kernelspec": {
   "display_name": ".venv",
   "language": "python",
   "name": "python3"
  },
  "language_info": {
   "codemirror_mode": {
    "name": "ipython",
    "version": 3
   },
   "file_extension": ".py",
   "mimetype": "text/x-python",
   "name": "python",
   "nbconvert_exporter": "python",
   "pygments_lexer": "ipython3",
   "version": "3.11.5"
  }
 },
 "nbformat": 4,
 "nbformat_minor": 5
}
