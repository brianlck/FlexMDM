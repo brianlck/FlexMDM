{
 "cells": [
  {
   "cell_type": "code",
   "execution_count": 3,
   "metadata": {},
   "outputs": [],
   "source": [
    "from train_semi_auto import BracketFlowModule\n",
    "from parenthesis import BracketDataset\n",
    "from sampling import semiauto_euler_sampling\n"
   ]
  },
  {
   "cell_type": "code",
   "execution_count": 5,
   "metadata": {},
   "outputs": [],
   "source": [
    "checkpoint_path = \"checkpoints/bracket-flow/last-v48.ckpt\"\n",
    "model = BracketFlowModule.load_from_checkpoint(checkpoint_path)"
   ]
  },
  {
   "cell_type": "code",
   "execution_count": 10,
   "metadata": {},
   "outputs": [
    {
     "name": "stderr",
     "output_type": "stream",
     "text": [
      "/n/netscratch/albergo_lab/Lab/brianlck/interpretable-flow/model/transformer.py:36: FutureWarning: `torch.cuda.amp.autocast(args...)` is deprecated. Please use `torch.amp.autocast('cuda', args...)` instead.\n",
      "  with torch.cuda.amp.autocast(enabled=False):\n",
      "/n/netscratch/albergo_lab/Lab/brianlck/interpretable-flow/model/transformer.py:167: FutureWarning: `torch.cuda.amp.autocast(args...)` is deprecated. Please use `torch.amp.autocast('cuda', args...)` instead.\n",
      "  with torch.cuda.amp.autocast(enabled=False):\n"
     ]
    }
   ],
   "source": [
    "steps = 200\n",
    "batch_size = 10\n",
    "samples, trace = semiauto_euler_sampling(model, model.interpolant, steps=steps, mask=0, pad=3, batch_size=10, max_length=64)"
   ]
  },
  {
   "cell_type": "code",
   "execution_count": 11,
   "metadata": {},
   "outputs": [
    {
     "data": {
      "text/html": [
       "\n",
       "<style>\n",
       ".token{display:inline-block;padding:5px 10px;margin:2px;border:1px solid #aaa;border-radius:4px;\n",
       "font-family:monospace;transition:background .5s}\n",
       ".hi-i{background:lightgreen}\n",
       ".hi-c{background:yellow}\n",
       "#s{min-height:30px;margin-bottom:20px}\n",
       "</style>\n",
       "<div id=\"s\"></div>\n",
       "<button id=\"r\">Replay</button>\n",
       "<script>\n",
       "// Use events provided from Python\n",
       "var ev = [{\"t\": 0.01, \"a\": \"i\", \"tk\": \"m\", \"i\": 0}, {\"t\": 0.035, \"a\": \"i\", \"tk\": \"m\", \"i\": 1}, {\"t\": 0.055, \"a\": \"i\", \"tk\": \"m\", \"i\": 2}, {\"t\": 0.1, \"a\": \"i\", \"tk\": \"m\", \"i\": 3}, {\"t\": 0.145, \"a\": \"i\", \"tk\": \"m\", \"i\": 4}, {\"t\": 0.155, \"a\": \"i\", \"tk\": \"m\", \"i\": 5}, {\"t\": 0.16, \"a\": \"i\", \"tk\": \"m\", \"i\": 6}, {\"t\": 0.165, \"a\": \"i\", \"tk\": \"m\", \"i\": 7}, {\"t\": 0.17500000000000002, \"a\": \"c\", \"tk\": \"(\", \"i\": 2}, {\"t\": 0.18, \"a\": \"i\", \"tk\": \"m\", \"i\": 8}, {\"t\": 0.215, \"a\": \"i\", \"tk\": \"m\", \"i\": 9}, {\"t\": 0.22, \"a\": \"i\", \"tk\": \"m\", \"i\": 10}, {\"t\": 0.23, \"a\": \"i\", \"tk\": \"m\", \"i\": 11}, {\"t\": 0.23500000000000001, \"a\": \"i\", \"tk\": \"m\", \"i\": 12}, {\"t\": 0.24, \"a\": \"i\", \"tk\": \"m\", \"i\": 13}, {\"t\": 0.25, \"a\": \"c\", \"tk\": \"(\", \"i\": 0}, {\"t\": 0.25, \"a\": \"c\", \"tk\": \"(\", \"i\": 5}, {\"t\": 0.26, \"a\": \"i\", \"tk\": \"m\", \"i\": 14}, {\"t\": 0.265, \"a\": \"i\", \"tk\": \"m\", \"i\": 15}, {\"t\": 0.27, \"a\": \"c\", \"tk\": \")\", \"i\": 9}, {\"t\": 0.275, \"a\": \"i\", \"tk\": \"m\", \"i\": 16}, {\"t\": 0.29, \"a\": \"i\", \"tk\": \"m\", \"i\": 17}, {\"t\": 0.3, \"a\": \"i\", \"tk\": \"m\", \"i\": 18}, {\"t\": 0.315, \"a\": \"i\", \"tk\": \"m\", \"i\": 19}, {\"t\": 0.335, \"a\": \"i\", \"tk\": \"m\", \"i\": 20}, {\"t\": 0.35000000000000003, \"a\": \"c\", \"tk\": \"(\", \"i\": 18}, {\"t\": 0.355, \"a\": \"i\", \"tk\": \"m\", \"i\": 21}, {\"t\": 0.36, \"a\": \"i\", \"tk\": \"m\", \"i\": 22}, {\"t\": 0.365, \"a\": \"i\", \"tk\": \"m\", \"i\": 23}, {\"t\": 0.375, \"a\": \"c\", \"tk\": \"(\", \"i\": 4}, {\"t\": 0.375, \"a\": \"c\", \"tk\": \")\", \"i\": 23}, {\"t\": 0.385, \"a\": \"i\", \"tk\": \"m\", \"i\": 24}, {\"t\": 0.395, \"a\": \"i\", \"tk\": \"m\", \"i\": 25}, {\"t\": 0.425, \"a\": \"i\", \"tk\": \"m\", \"i\": 26}, {\"t\": 0.43, \"a\": \"c\", \"tk\": \")\", \"i\": 25}, {\"t\": 0.435, \"a\": \"i\", \"tk\": \"m\", \"i\": 27}, {\"t\": 0.46, \"a\": \"c\", \"tk\": \")\", \"i\": 8}, {\"t\": 0.505, \"a\": \"c\", \"tk\": \"(\", \"i\": 17}, {\"t\": 0.52, \"a\": \"c\", \"tk\": \")\", \"i\": 10}, {\"t\": 0.52, \"a\": \"c\", \"tk\": \")\", \"i\": 13}, {\"t\": 0.535, \"a\": \"c\", \"tk\": \")\", \"i\": 21}, {\"t\": 0.5650000000000001, \"a\": \"c\", \"tk\": \")\", \"i\": 12}, {\"t\": 0.58, \"a\": \"c\", \"tk\": \"(\", \"i\": 3}, {\"t\": 0.58, \"a\": \"c\", \"tk\": \")\", \"i\": 20}, {\"t\": 0.61, \"a\": \"i\", \"tk\": \"m\", \"i\": 28}, {\"t\": 0.615, \"a\": \"i\", \"tk\": \"m\", \"i\": 29}, {\"t\": 0.625, \"a\": \"c\", \"tk\": \"(\", \"i\": 6}, {\"t\": 0.64, \"a\": \"c\", \"tk\": \"(\", \"i\": 1}, {\"t\": 0.645, \"a\": \"c\", \"tk\": \")\", \"i\": 29}, {\"t\": 0.65, \"a\": \"c\", \"tk\": \"(\", \"i\": 14}, {\"t\": 0.68, \"a\": \"c\", \"tk\": \"(\", \"i\": 24}, {\"t\": 0.7000000000000001, \"a\": \"c\", \"tk\": \"(\", \"i\": 26}, {\"t\": 0.73, \"a\": \"i\", \"tk\": \"m\", \"i\": 30}, {\"t\": 0.79, \"a\": \"c\", \"tk\": \"(\", \"i\": 16}, {\"t\": 0.79, \"a\": \"c\", \"tk\": \")\", \"i\": 27}, {\"t\": 0.87, \"a\": \"c\", \"tk\": \")\", \"i\": 11}, {\"t\": 0.88, \"a\": \"c\", \"tk\": \")\", \"i\": 15}, {\"t\": 0.88, \"a\": \"c\", \"tk\": \")\", \"i\": 22}, {\"t\": 0.895, \"a\": \"c\", \"tk\": \"(\", \"i\": 30}, {\"t\": 0.915, \"a\": \"i\", \"tk\": \"m\", \"i\": 31}, {\"t\": 0.93, \"a\": \"c\", \"tk\": \"(\", \"i\": 19}, {\"t\": 0.935, \"a\": \"c\", \"tk\": \"(\", \"i\": 28}, {\"t\": 0.9450000000000001, \"a\": \"c\", \"tk\": \")\", \"i\": 7}, {\"t\": 0.9500000000000001, \"a\": \"c\", \"tk\": \")\", \"i\": 31}], s = [];\n",
       "var render = function(hIdx, act){\n",
       "  var c = document.getElementById(\"s\"); c.innerHTML=\"\";\n",
       "  s.forEach(function(t,k){ \n",
       "    var sp = document.createElement(\"span\");\n",
       "    sp.className = \"token\" + (k===hIdx ? \" hi-\"+act : \"\");\n",
       "    sp.textContent = t; c.appendChild(sp);\n",
       "  }); \n",
       "},\n",
       "run = function(){\n",
       "  s = []; render();\n",
       "  ev.forEach(function(e){\n",
       "    setTimeout(function(){\n",
       "      if(e.a==\"i\"){\n",
       "        var p = e.i;\n",
       "        s.splice(p, 0, e.tk);\n",
       "        render(p, \"i\");\n",
       "      } else {\n",
       "        var p = (e.i===undefined || e.i<0 || e.i>=s.length) ? Math.floor(s.length/2) : e.i;\n",
       "        s[p] = e.tk; render(p, \"c\");\n",
       "      }\n",
       "      setTimeout(render,600);\n",
       "    }, e.t*5000);\n",
       "  });\n",
       "};\n",
       "document.getElementById(\"r\").onclick = run;\n",
       "run();\n",
       "</script>\n"
      ],
      "text/plain": [
       "<IPython.core.display.HTML object>"
      ]
     },
     "metadata": {},
     "output_type": "display_data"
    }
   ],
   "source": [
    "from IPython.display import display, HTML\n",
    "import json\n",
    "\n",
    "# Select the index of the tensor to visualize\n",
    "id = 0\n",
    "assert 0 <= id < batch_size, \"id must be in [0, batch_size)\"\n",
    "\n",
    "\n",
    "dt = 1. / steps\n",
    "last = \"\"\n",
    "\n",
    "e = []\n",
    "\n",
    "for i in range(len(trace)):\n",
    "    t = dt * i\n",
    "    s = BracketDataset.parse_tensor(trace[i][id])\n",
    "    \n",
    "\n",
    "    for j, (a, b) in enumerate(zip(last, s)):\n",
    "        if a != b:\n",
    "            e.append(dict(\n",
    "                t=t,\n",
    "                a=\"c\",\n",
    "                tk=b,\n",
    "                i=j\n",
    "            ))\n",
    "    \n",
    "    \n",
    "    if len(s) > len(last):\n",
    "        for j in range(len(last), len(s)):\n",
    "            e.append(dict(\n",
    "                t=t,\n",
    "                a=\"i\",\n",
    "                tk=s[j],\n",
    "                i=j\n",
    "            ))\n",
    "\n",
    "    last = s\n",
    "\n",
    "\n",
    "display(HTML(f'''\n",
    "<style>\n",
    ".token{{display:inline-block;padding:5px 10px;margin:2px;border:1px solid #aaa;border-radius:4px;\n",
    "font-family:monospace;transition:background .5s}}\n",
    ".hi-i{{background:lightgreen}}\n",
    ".hi-c{{background:yellow}}\n",
    "#s{{min-height:30px;margin-bottom:20px}}\n",
    "</style>\n",
    "<div id=\"s\"></div>\n",
    "<button id=\"r\">Replay</button>\n",
    "<script>\n",
    "// Use events provided from Python\n",
    "var ev = {json.dumps(e)}, s = [];\n",
    "var render = function(hIdx, act){{\n",
    "  var c = document.getElementById(\"s\"); c.innerHTML=\"\";\n",
    "  s.forEach(function(t,k){{ \n",
    "    var sp = document.createElement(\"span\");\n",
    "    sp.className = \"token\" + (k===hIdx ? \" hi-\"+act : \"\");\n",
    "    sp.textContent = t; c.appendChild(sp);\n",
    "  }}); \n",
    "}},\n",
    "run = function(){{\n",
    "  s = []; render();\n",
    "  ev.forEach(function(e){{\n",
    "    setTimeout(function(){{\n",
    "      if(e.a==\"i\"){{\n",
    "        var p = e.i;\n",
    "        s.splice(p, 0, e.tk);\n",
    "        render(p, \"i\");\n",
    "      }} else {{\n",
    "        var p = (e.i===undefined || e.i<0 || e.i>=s.length) ? Math.floor(s.length/2) : e.i;\n",
    "        s[p] = e.tk; render(p, \"c\");\n",
    "      }}\n",
    "      setTimeout(render,600);\n",
    "    }}, e.t*5000);\n",
    "  }});\n",
    "}};\n",
    "document.getElementById(\"r\").onclick = run;\n",
    "run();\n",
    "</script>\n",
    "'''))"
   ]
  }
 ],
 "metadata": {
  "kernelspec": {
   "display_name": ".venv",
   "language": "python",
   "name": "python3"
  },
  "language_info": {
   "codemirror_mode": {
    "name": "ipython",
    "version": 3
   },
   "file_extension": ".py",
   "mimetype": "text/x-python",
   "name": "python",
   "nbconvert_exporter": "python",
   "pygments_lexer": "ipython3",
   "version": "3.11.5"
  }
 },
 "nbformat": 4,
 "nbformat_minor": 2
}
