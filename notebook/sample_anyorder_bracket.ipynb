{
 "cells": [
  {
   "cell_type": "code",
   "execution_count": 1,
   "id": "0dea6035",
   "metadata": {},
   "outputs": [],
   "source": [
    "from train_any_order import BracketFlowModule\n",
    "from sampling import any_order_mask_insertion_euler_sampling, SamplingTraceDatapoint"
   ]
  },
  {
   "cell_type": "code",
   "execution_count": 2,
   "id": "485bd86f",
   "metadata": {},
   "outputs": [],
   "source": [
    "checkpoint_path = \"checkpoints/bracket-flow/bracket-any-order-mask-flow-epoch=89-train/total_loss=3.7114.ckpt\"\n",
    "model = BracketFlowModule.load_from_checkpoint(checkpoint_path)"
   ]
  },
  {
   "cell_type": "code",
   "execution_count": 13,
   "id": "a0b49879",
   "metadata": {},
   "outputs": [],
   "source": [
    "steps = 2000\n",
    "batch_size = 20\n",
    "samples, trace = any_order_mask_insertion_euler_sampling(\n",
    "    model,\n",
    "    model.interpolant,\n",
    "    steps=steps,\n",
    "    mask=0,\n",
    "    pad=3,\n",
    "    batch_size=batch_size,\n",
    "    max_length=64,\n",
    "    return_trace=True,\n",
    ")"
   ]
  },
  {
   "cell_type": "code",
   "execution_count": 4,
   "id": "01564892",
   "metadata": {},
   "outputs": [],
   "source": [
    "def process_trace(trace: list[SamplingTraceDatapoint]):\n",
    "    event_type_mapping = dict(change=\"c\", insertion=\"i\")\n",
    "    token_mapping = {0: \"m\", 1: \"(\", 2: \")\"}\n",
    "\n",
    "    def _process_datapoint(datapoint: SamplingTraceDatapoint):\n",
    "        return dict(\n",
    "            t=datapoint.t,\n",
    "            a=event_type_mapping[datapoint.event_type],\n",
    "            tk=token_mapping[datapoint.token],\n",
    "            i=datapoint.position,\n",
    "        )\n",
    "\n",
    "    return [_process_datapoint(datapoint) for datapoint in trace]"
   ]
  },
  {
   "cell_type": "code",
   "execution_count": 11,
   "id": "4beb0ba1",
   "metadata": {},
   "outputs": [
    {
     "data": {
      "text/plain": [
       "tensor([[1, 1, 1, 1, 2, 2, 2, 2, 1, 1, 2, 2, 1, 1, 1, 2, 2, 2, 1, 2, 1, 2, 1, 1,\n",
       "         1, 2, 2, 2, 1, 1, 2, 2, 1, 1, 2, 2, 1, 2, 1, 2, 1, 2, 1, 1, 2, 2, 1, 1,\n",
       "         2, 2, 1, 1, 0, 1, 2, 2, 2, 1, 1, 2, 2, 1, 2, 1]], device='cuda:0')"
      ]
     },
     "execution_count": 11,
     "metadata": {},
     "output_type": "execute_result"
    }
   ],
   "source": [
    "samples"
   ]
  },
  {
   "cell_type": "code",
   "execution_count": 12,
   "id": "63efdf7b",
   "metadata": {},
   "outputs": [
    {
     "name": "stdout",
     "output_type": "stream",
     "text": [
      "[{'t': 0.019999999552965164, 'a': 'i', 'tk': 'm', 'i': 0}, {'t': 0.1250000149011612, 'a': 'c', 'tk': ')', 'i': 0}, {'t': 0.1300000101327896, 'a': 'i', 'tk': 'm', 'i': 1}, {'t': 0.15999998152256012, 'a': 'i', 'tk': 'm', 'i': 2}, {'t': 0.21499992907047272, 'a': 'c', 'tk': ')', 'i': 1}, {'t': 0.21499992907047272, 'a': 'i', 'tk': 'm', 'i': 3}, {'t': 0.22999991476535797, 'a': 'i', 'tk': 'm', 'i': 4}, {'t': 0.24999989569187164, 'a': 'i', 'tk': 'm', 'i': 5}, {'t': 0.2649998962879181, 'a': 'i', 'tk': 'm', 'i': 5}, {'t': 0.2749998867511749, 'a': 'i', 'tk': 'm', 'i': 4}, {'t': 0.2949998676776886, 'a': 'i', 'tk': 'm', 'i': 6}, {'t': 0.33999982476234436, 'a': 'c', 'tk': '(', 'i': 3}, {'t': 0.35999980568885803, 'a': 'i', 'tk': 'm', 'i': 5}, {'t': 0.35999980568885803, 'a': 'i', 'tk': 'm', 'i': 0}, {'t': 0.3849997818470001, 'a': 'c', 'tk': '(', 'i': 3}, {'t': 0.42499974370002747, 'a': 'c', 'tk': ')', 'i': 7}, {'t': 0.4599997103214264, 'a': 'i', 'tk': 'm', 'i': 10}, {'t': 0.4899996817111969, 'a': 'c', 'tk': ')', 'i': 6}, {'t': 0.509999692440033, 'a': 'c', 'tk': '(', 'i': 9}, {'t': 0.5149996876716614, 'a': 'i', 'tk': 'm', 'i': 4}, {'t': 0.569999635219574, 'a': 'c', 'tk': '(', 'i': 4}, {'t': 0.5899996161460876, 'a': 'i', 'tk': 'm', 'i': 8}, {'t': 0.6049996018409729, 'a': 'i', 'tk': 'm', 'i': 1}, {'t': 0.6399995684623718, 'a': 'c', 'tk': '(', 'i': 0}, {'t': 0.689999520778656, 'a': 'c', 'tk': '(', 'i': 11}, {'t': 0.7299994826316833, 'a': 'c', 'tk': '(', 'i': 1}, {'t': 0.7699994444847107, 'a': 'c', 'tk': ')', 'i': 13}, {'t': 0.7899994254112244, 'a': 'i', 'tk': 'm', 'i': 0}, {'t': 0.8899993300437927, 'a': 'c', 'tk': ')', 'i': 10}, {'t': 0.9099993109703064, 'a': 'c', 'tk': '(', 'i': 0}, {'t': 0.9799992442131042, 'a': 'c', 'tk': ')', 'i': 15}, {'t': 0.9849992394447327, 'a': 'c', 'tk': '(', 'i': 8}]\n"
     ]
    },
    {
     "data": {
      "text/html": [
       "\n",
       "<style>\n",
       ".token {\n",
       "    display: inline-block;\n",
       "    padding: 5px 10px;\n",
       "    margin: 2px;\n",
       "    border: 1px solid #aaa;\n",
       "    border-radius: 4px;\n",
       "    font-family: monospace;\n",
       "    transition: background 0.5s;\n",
       "}\n",
       ".hi-i { background: lightgreen; }\n",
       ".hi-c { background: yellow; }\n",
       "#s { min-height: 30px; margin-bottom: 20px; }\n",
       "</style>\n",
       "<div id=\"s\"></div>\n",
       "<button id=\"r\">Replay</button>\n",
       "<script>\n",
       "var ev = [{\"t\": 0.019999999552965164, \"a\": \"i\", \"tk\": \"m\", \"i\": 0}, {\"t\": 0.1250000149011612, \"a\": \"c\", \"tk\": \")\", \"i\": 0}, {\"t\": 0.1300000101327896, \"a\": \"i\", \"tk\": \"m\", \"i\": 1}, {\"t\": 0.15999998152256012, \"a\": \"i\", \"tk\": \"m\", \"i\": 2}, {\"t\": 0.21499992907047272, \"a\": \"c\", \"tk\": \")\", \"i\": 1}, {\"t\": 0.21499992907047272, \"a\": \"i\", \"tk\": \"m\", \"i\": 3}, {\"t\": 0.22999991476535797, \"a\": \"i\", \"tk\": \"m\", \"i\": 4}, {\"t\": 0.24999989569187164, \"a\": \"i\", \"tk\": \"m\", \"i\": 5}, {\"t\": 0.2649998962879181, \"a\": \"i\", \"tk\": \"m\", \"i\": 5}, {\"t\": 0.2749998867511749, \"a\": \"i\", \"tk\": \"m\", \"i\": 4}, {\"t\": 0.2949998676776886, \"a\": \"i\", \"tk\": \"m\", \"i\": 6}, {\"t\": 0.33999982476234436, \"a\": \"c\", \"tk\": \"(\", \"i\": 3}, {\"t\": 0.35999980568885803, \"a\": \"i\", \"tk\": \"m\", \"i\": 5}, {\"t\": 0.35999980568885803, \"a\": \"i\", \"tk\": \"m\", \"i\": 0}, {\"t\": 0.3849997818470001, \"a\": \"c\", \"tk\": \"(\", \"i\": 3}, {\"t\": 0.42499974370002747, \"a\": \"c\", \"tk\": \")\", \"i\": 7}, {\"t\": 0.4599997103214264, \"a\": \"i\", \"tk\": \"m\", \"i\": 10}, {\"t\": 0.4899996817111969, \"a\": \"c\", \"tk\": \")\", \"i\": 6}, {\"t\": 0.509999692440033, \"a\": \"c\", \"tk\": \"(\", \"i\": 9}, {\"t\": 0.5149996876716614, \"a\": \"i\", \"tk\": \"m\", \"i\": 4}, {\"t\": 0.569999635219574, \"a\": \"c\", \"tk\": \"(\", \"i\": 4}, {\"t\": 0.5899996161460876, \"a\": \"i\", \"tk\": \"m\", \"i\": 8}, {\"t\": 0.6049996018409729, \"a\": \"i\", \"tk\": \"m\", \"i\": 1}, {\"t\": 0.6399995684623718, \"a\": \"c\", \"tk\": \"(\", \"i\": 0}, {\"t\": 0.689999520778656, \"a\": \"c\", \"tk\": \"(\", \"i\": 11}, {\"t\": 0.7299994826316833, \"a\": \"c\", \"tk\": \"(\", \"i\": 1}, {\"t\": 0.7699994444847107, \"a\": \"c\", \"tk\": \")\", \"i\": 13}, {\"t\": 0.7899994254112244, \"a\": \"i\", \"tk\": \"m\", \"i\": 0}, {\"t\": 0.8899993300437927, \"a\": \"c\", \"tk\": \")\", \"i\": 10}, {\"t\": 0.9099993109703064, \"a\": \"c\", \"tk\": \"(\", \"i\": 0}, {\"t\": 0.9799992442131042, \"a\": \"c\", \"tk\": \")\", \"i\": 15}, {\"t\": 0.9849992394447327, \"a\": \"c\", \"tk\": \"(\", \"i\": 8}];\n",
       "var s = [];\n",
       "var delay = 100; // Delay between steps (ms)\n",
       "\n",
       "function render(hIdx, action) {\n",
       "    var container = document.getElementById(\"s\");\n",
       "    container.innerHTML = \"\";\n",
       "    s.forEach(function(token, idx) {\n",
       "        var span = document.createElement(\"span\");\n",
       "        span.className = \"token\" + (idx === hIdx ? \" hi-\" + action : \"\");\n",
       "        span.textContent = token;\n",
       "        container.appendChild(span);\n",
       "    });\n",
       "}\n",
       "\n",
       "async function run() {\n",
       "    s = [];\n",
       "    render();\n",
       "\n",
       "    for (const e of ev) {\n",
       "        if (e.a === \"i\") {\n",
       "            // Insert token at position e.i\n",
       "            var pos = (e.i < 0 || e.i > s.length) ? Math.floor(s.length / 2) : e.i;\n",
       "            s.splice(pos, 0, e.tk);\n",
       "            render(pos, \"i\");\n",
       "        } else {\n",
       "            // Change token at position e.i\n",
       "            var pos = (e.i === undefined || e.i < 0 || e.i >= s.length) ? Math.floor(s.length / 2) : e.i;\n",
       "            s[pos] = e.tk;\n",
       "            render(pos, \"c\");\n",
       "        }\n",
       "\n",
       "        // Small delay to make the animation visible (but still synchronous in execution order)\n",
       "        await new Promise(resolve => setTimeout(resolve, delay));\n",
       "    }\n",
       "}\n",
       "\n",
       "document.getElementById(\"r\").onclick = run;\n",
       "run(); // Start automatically\n",
       "</script>\n"
      ],
      "text/plain": [
       "<IPython.core.display.HTML object>"
      ]
     },
     "metadata": {},
     "output_type": "display_data"
    }
   ],
   "source": [
    "from IPython.display import display, HTML\n",
    "import json\n",
    "\n",
    "# Select the index of the tensor to visualize\n",
    "id = 0\n",
    "assert 0 <= id < batch_size, \"id must be in [0, batch_size)\"\n",
    "\n",
    "events = process_trace(trace[id])\n",
    "print(events)\n",
    "\n",
    "display(\n",
    "    HTML(f\"\"\"\n",
    "<style>\n",
    ".token {{\n",
    "    display: inline-block;\n",
    "    padding: 5px 10px;\n",
    "    margin: 2px;\n",
    "    border: 1px solid #aaa;\n",
    "    border-radius: 4px;\n",
    "    font-family: monospace;\n",
    "    transition: background 0.5s;\n",
    "}}\n",
    ".hi-i {{ background: lightgreen; }}\n",
    ".hi-c {{ background: yellow; }}\n",
    "#s {{ min-height: 30px; margin-bottom: 20px; }}\n",
    "</style>\n",
    "<div id=\"s\"></div>\n",
    "<button id=\"r\">Replay</button>\n",
    "<script>\n",
    "var ev = {json.dumps(events)};\n",
    "var s = [];\n",
    "var delay = 100; // Delay between steps (ms)\n",
    "\n",
    "function render(hIdx, action) {{\n",
    "    var container = document.getElementById(\"s\");\n",
    "    container.innerHTML = \"\";\n",
    "    s.forEach(function(token, idx) {{\n",
    "        var span = document.createElement(\"span\");\n",
    "        span.className = \"token\" + (idx === hIdx ? \" hi-\" + action : \"\");\n",
    "        span.textContent = token;\n",
    "        container.appendChild(span);\n",
    "    }});\n",
    "}}\n",
    "\n",
    "async function run() {{\n",
    "    s = [];\n",
    "    render();\n",
    "    \n",
    "    for (const e of ev) {{\n",
    "        if (e.a === \"i\") {{\n",
    "            // Insert token at position e.i\n",
    "            var pos = (e.i < 0 || e.i > s.length) ? Math.floor(s.length / 2) : e.i;\n",
    "            s.splice(pos, 0, e.tk);\n",
    "            render(pos, \"i\");\n",
    "        }} else {{\n",
    "            // Change token at position e.i\n",
    "            var pos = (e.i === undefined || e.i < 0 || e.i >= s.length) ? Math.floor(s.length / 2) : e.i;\n",
    "            s[pos] = e.tk;\n",
    "            render(pos, \"c\");\n",
    "        }}\n",
    "        \n",
    "        // Small delay to make the animation visible (but still synchronous in execution order)\n",
    "        await new Promise(resolve => setTimeout(resolve, delay));\n",
    "    }}\n",
    "}}\n",
    "\n",
    "document.getElementById(\"r\").onclick = run;\n",
    "run(); // Start automatically\n",
    "</script>\n",
    "\"\"\")\n",
    ")"
   ]
  },
  {
   "cell_type": "code",
   "execution_count": null,
   "id": "7d5210d9",
   "metadata": {},
   "outputs": [],
   "source": []
  }
 ],
 "metadata": {
  "kernelspec": {
   "display_name": ".venv",
   "language": "python",
   "name": "python3"
  },
  "language_info": {
   "codemirror_mode": {
    "name": "ipython",
    "version": 3
   },
   "file_extension": ".py",
   "mimetype": "text/x-python",
   "name": "python",
   "nbconvert_exporter": "python",
   "pygments_lexer": "ipython3",
   "version": "3.11.5"
  }
 },
 "nbformat": 4,
 "nbformat_minor": 5
}
