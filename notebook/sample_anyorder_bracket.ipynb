{
 "cells": [
  {
   "cell_type": "code",
   "execution_count": null,
   "id": "0dea6035",
   "metadata": {},
   "outputs": [
    {
     "ename": "",
     "evalue": "",
     "output_type": "error",
     "traceback": [
      "\u001b[1;31mThe kernel failed to start as the Python Environment 'Python' is no longer available. Consider selecting another kernel or refreshing the list of Python Environments."
     ]
    }
   ],
   "source": [
    "from train_any_order import BracketFlowModule\n",
    "from parenthesis import BracketDataset\n",
    "from sampling import any_order_mask_insertion_euler_sampling\n"
   ]
  },
  {
   "cell_type": "code",
   "execution_count": null,
   "id": "485bd86f",
   "metadata": {},
   "outputs": [
    {
     "ename": "",
     "evalue": "",
     "output_type": "error",
     "traceback": [
      "\u001b[1;31mThe kernel failed to start as the Python Environment '.venv (Python 3.10.13)' is no longer available. Consider selecting another kernel or refreshing the list of Python Environments."
     ]
    }
   ],
   "source": [
    "checkpoint_path = \"checkpoints/bracket-flow/bracket-any-order-mask-flow-epoch=89-train/total_loss=3.7114.ckpt\"\n",
    "model = BracketFlowModule.load_from_checkpoint(checkpoint_path)"
   ]
  }
 ],
 "metadata": {
  "kernelspec": {
   "display_name": "Python 3",
   "language": "python",
   "name": "python3"
  },
  "language_info": {
   "name": "python",
   "version": "3.10.13"
  }
 },
 "nbformat": 4,
 "nbformat_minor": 5
}
