{
 "cells": [
  {
   "cell_type": "code",
   "execution_count": 1,
   "metadata": {},
   "outputs": [],
   "source": [
    "from train_semi_auto import BracketFlowModule\n",
    "from parenthesis import BracketDataset\n",
    "from sampling import semiauto_euler_sampling\n"
   ]
  },
  {
   "cell_type": "code",
   "execution_count": 2,
   "metadata": {},
   "outputs": [],
   "source": [
    "checkpoint_path = \"checkpoints/bracket-flow/last-v48.ckpt\"\n",
    "model = BracketFlowModule.load_from_checkpoint(checkpoint_path)"
   ]
  },
  {
   "cell_type": "code",
   "execution_count": 10,
   "metadata": {},
   "outputs": [
    {
     "name": "stderr",
     "output_type": "stream",
     "text": [
      "/n/netscratch/albergo_lab/Lab/brianlck/interpretable-flow/model/transformer.py:36: FutureWarning: `torch.cuda.amp.autocast(args...)` is deprecated. Please use `torch.amp.autocast('cuda', args...)` instead.\n",
      "  with torch.cuda.amp.autocast(enabled=False):\n",
      "/n/netscratch/albergo_lab/Lab/brianlck/interpretable-flow/model/transformer.py:167: FutureWarning: `torch.cuda.amp.autocast(args...)` is deprecated. Please use `torch.amp.autocast('cuda', args...)` instead.\n",
      "  with torch.cuda.amp.autocast(enabled=False):\n"
     ]
    }
   ],
   "source": [
    "samples, trace = semiauto_euler_sampling(model, model.interpolant, 2000, 0, 3, 1000, 64)"
   ]
  },
  {
   "cell_type": "code",
   "execution_count": 42,
   "metadata": {},
   "outputs": [],
   "source": [
    "id = 1\n",
    "dt = 1. / 2000\n",
    "\n",
    "last = \"\"\n",
    "\n",
    "e = []\n",
    "\n",
    "for i in range(len(trace)):\n",
    "    t = dt * i\n",
    "    s = BracketDataset.parse_tensor(trace[i][0])\n",
    "    \n",
    "\n",
    "    for j, (a, b) in enumerate(zip(last, s)):\n",
    "        if a != b:\n",
    "            e.append(dict(\n",
    "                t=t,\n",
    "                a=\"c\",\n",
    "                tk=b,\n",
    "                i=j\n",
    "            ))\n",
    "    \n",
    "    \n",
    "    if len(s) > len(last):\n",
    "        for j in range(len(last), len(s)):\n",
    "            e.append(dict(\n",
    "                t=t,\n",
    "                a=\"i\",\n",
    "                tk=s[j],\n",
    "                i=j\n",
    "            ))\n",
    "\n",
    "    last = s"
   ]
  },
  {
   "cell_type": "code",
   "execution_count": 37,
   "metadata": {},
   "outputs": [
    {
     "data": {
      "text/plain": [
       "'[{\"t\": 0.0545, \"a\": \"i\", \"tk\": \"m\", \"i\": 0}, {\"t\": 0.11900000000000001, \"a\": \"i\", \"tk\": \"m\", \"i\": 1}, {\"t\": 0.253, \"a\": \"i\", \"tk\": \"m\", \"i\": 2}, {\"t\": 0.2745, \"a\": \"c\", \"tk\": \")\"}, {\"t\": 0.3065, \"a\": \"c\", \"tk\": \"(\"}, {\"t\": 0.3255, \"a\": \"i\", \"tk\": \"m\", \"i\": 3}, {\"t\": 0.3355, \"a\": \"i\", \"tk\": \"m\", \"i\": 4}, {\"t\": 0.3375, \"a\": \"i\", \"tk\": \"m\", \"i\": 5}, {\"t\": 0.3645, \"a\": \"i\", \"tk\": \"m\", \"i\": 6}, {\"t\": 0.424, \"a\": \"i\", \"tk\": \"m\", \"i\": 7}, {\"t\": 0.4825, \"a\": \"i\", \"tk\": \"m\", \"i\": 8}, {\"t\": 0.4855, \"a\": \"i\", \"tk\": \"m\", \"i\": 9}, {\"t\": 0.5005000000000001, \"a\": \"c\", \"tk\": \")\"}, {\"t\": 0.5455, \"a\": \"i\", \"tk\": \"m\", \"i\": 10}, {\"t\": 0.596, \"a\": \"c\", \"tk\": \"(\"}, {\"t\": 0.6065, \"a\": \"i\", \"tk\": \"m\", \"i\": 11}, {\"t\": 0.6135, \"a\": \"c\", \"tk\": \")\"}, {\"t\": 0.6385000000000001, \"a\": \"i\", \"tk\": \"m\", \"i\": 12}, {\"t\": 0.651, \"a\": \"c\", \"tk\": \")\"}, {\"t\": 0.683, \"a\": \"i\", \"tk\": \"m\", \"i\": 13}, {\"t\": 0.6955, \"a\": \"c\", \"tk\": \")\"}, {\"t\": 0.709, \"a\": \"i\", \"tk\": \"m\", \"i\": 14}, {\"t\": 0.713, \"a\": \"c\", \"tk\": \"(\"}, {\"t\": 0.7315, \"a\": \"c\", \"tk\": \"(\"}, {\"t\": 0.8, \"a\": \"i\", \"tk\": \"m\", \"i\": 15}, {\"t\": 0.8495, \"a\": \"c\", \"tk\": \"(\"}, {\"t\": 0.859, \"a\": \"c\", \"tk\": \"(\"}, {\"t\": 0.874, \"a\": \"c\", \"tk\": \")\"}, {\"t\": 0.9315, \"a\": \"c\", \"tk\": \"(\"}, {\"t\": 0.9765, \"a\": \"c\", \"tk\": \")\"}, {\"t\": 0.983, \"a\": \"c\", \"tk\": \")\"}, {\"t\": 0.99, \"a\": \"c\", \"tk\": \"(\"}]'"
      ]
     },
     "execution_count": 37,
     "metadata": {},
     "output_type": "execute_result"
    }
   ],
   "source": [
    "import json\n",
    "\n",
    "json.dumps(e)"
   ]
  },
  {
   "cell_type": "code",
   "execution_count": 43,
   "metadata": {},
   "outputs": [
    {
     "data": {
      "text/html": [
       "\n",
       "<style>\n",
       ".token{display:inline-block;padding:5px 10px;margin:2px;border:1px solid #aaa;border-radius:4px;\n",
       "font-family:monospace;transition:background .5s}\n",
       ".hi-i{background:lightgreen}\n",
       ".hi-c{background:yellow}\n",
       "#s{min-height:30px;margin-bottom:20px}\n",
       "</style>\n",
       "<div id=\"s\"></div>\n",
       "<button id=\"r\">Replay</button>\n",
       "<script>\n",
       "// Use events provided from Python\n",
       "var ev = [{\"t\": 0.0545, \"a\": \"i\", \"tk\": \"m\", \"i\": 0}, {\"t\": 0.11900000000000001, \"a\": \"i\", \"tk\": \"m\", \"i\": 1}, {\"t\": 0.253, \"a\": \"i\", \"tk\": \"m\", \"i\": 2}, {\"t\": 0.2745, \"a\": \"c\", \"tk\": \")\", \"i\": 1}, {\"t\": 0.3065, \"a\": \"c\", \"tk\": \"(\", \"i\": 0}, {\"t\": 0.3255, \"a\": \"i\", \"tk\": \"m\", \"i\": 3}, {\"t\": 0.3355, \"a\": \"i\", \"tk\": \"m\", \"i\": 4}, {\"t\": 0.3375, \"a\": \"i\", \"tk\": \"m\", \"i\": 5}, {\"t\": 0.3645, \"a\": \"i\", \"tk\": \"m\", \"i\": 6}, {\"t\": 0.424, \"a\": \"i\", \"tk\": \"m\", \"i\": 7}, {\"t\": 0.4825, \"a\": \"i\", \"tk\": \"m\", \"i\": 8}, {\"t\": 0.4855, \"a\": \"i\", \"tk\": \"m\", \"i\": 9}, {\"t\": 0.5005000000000001, \"a\": \"c\", \"tk\": \")\", \"i\": 7}, {\"t\": 0.5455, \"a\": \"i\", \"tk\": \"m\", \"i\": 10}, {\"t\": 0.596, \"a\": \"c\", \"tk\": \"(\", \"i\": 3}, {\"t\": 0.6065, \"a\": \"i\", \"tk\": \"m\", \"i\": 11}, {\"t\": 0.6135, \"a\": \"c\", \"tk\": \")\", \"i\": 9}, {\"t\": 0.6385000000000001, \"a\": \"i\", \"tk\": \"m\", \"i\": 12}, {\"t\": 0.651, \"a\": \"c\", \"tk\": \")\", \"i\": 11}, {\"t\": 0.683, \"a\": \"i\", \"tk\": \"m\", \"i\": 13}, {\"t\": 0.6955, \"a\": \"c\", \"tk\": \")\", \"i\": 4}, {\"t\": 0.709, \"a\": \"i\", \"tk\": \"m\", \"i\": 14}, {\"t\": 0.713, \"a\": \"c\", \"tk\": \"(\", \"i\": 13}, {\"t\": 0.7315, \"a\": \"c\", \"tk\": \"(\", \"i\": 8}, {\"t\": 0.8, \"a\": \"i\", \"tk\": \"m\", \"i\": 15}, {\"t\": 0.8495, \"a\": \"c\", \"tk\": \"(\", \"i\": 10}, {\"t\": 0.859, \"a\": \"c\", \"tk\": \"(\", \"i\": 2}, {\"t\": 0.874, \"a\": \"c\", \"tk\": \")\", \"i\": 5}, {\"t\": 0.9315, \"a\": \"c\", \"tk\": \"(\", \"i\": 12}, {\"t\": 0.9765, \"a\": \"c\", \"tk\": \")\", \"i\": 15}, {\"t\": 0.983, \"a\": \"c\", \"tk\": \")\", \"i\": 14}, {\"t\": 0.99, \"a\": \"c\", \"tk\": \"(\", \"i\": 6}], s = [];\n",
       "var render = function(hIdx, act){\n",
       "  var c = document.getElementById(\"s\"); c.innerHTML=\"\";\n",
       "  s.forEach(function(t,k){ \n",
       "    var sp = document.createElement(\"span\");\n",
       "    sp.className = \"token\" + (k===hIdx ? \" hi-\"+act : \"\");\n",
       "    sp.textContent = t; c.appendChild(sp);\n",
       "  }); \n",
       "},\n",
       "run = function(){\n",
       "  s = []; render();\n",
       "  ev.forEach(function(e){\n",
       "    setTimeout(function(){\n",
       "      if(e.a==\"i\"){\n",
       "        var p = e.i;\n",
       "        s.splice(p, 0, e.tk);\n",
       "        render(p, \"i\");\n",
       "      } else {\n",
       "        var p = (e.i===undefined || e.i<0 || e.i>=s.length) ? Math.floor(s.length/2) : e.i;\n",
       "        s[p] = e.tk; render(p, \"c\");\n",
       "      }\n",
       "      setTimeout(render,600);\n",
       "    }, e.t*5000);\n",
       "  });\n",
       "};\n",
       "document.getElementById(\"r\").onclick = run;\n",
       "run();\n",
       "</script>\n"
      ],
      "text/plain": [
       "<IPython.core.display.HTML object>"
      ]
     },
     "metadata": {},
     "output_type": "display_data"
    }
   ],
   "source": [
    "from IPython.display import display, HTML\n",
    "display(HTML(f'''\n",
    "<style>\n",
    ".token{{display:inline-block;padding:5px 10px;margin:2px;border:1px solid #aaa;border-radius:4px;\n",
    "font-family:monospace;transition:background .5s}}\n",
    ".hi-i{{background:lightgreen}}\n",
    ".hi-c{{background:yellow}}\n",
    "#s{{min-height:30px;margin-bottom:20px}}\n",
    "</style>\n",
    "<div id=\"s\"></div>\n",
    "<button id=\"r\">Replay</button>\n",
    "<script>\n",
    "// Use events provided from Python\n",
    "var ev = {json.dumps(e)}, s = [];\n",
    "var render = function(hIdx, act){{\n",
    "  var c = document.getElementById(\"s\"); c.innerHTML=\"\";\n",
    "  s.forEach(function(t,k){{ \n",
    "    var sp = document.createElement(\"span\");\n",
    "    sp.className = \"token\" + (k===hIdx ? \" hi-\"+act : \"\");\n",
    "    sp.textContent = t; c.appendChild(sp);\n",
    "  }}); \n",
    "}},\n",
    "run = function(){{\n",
    "  s = []; render();\n",
    "  ev.forEach(function(e){{\n",
    "    setTimeout(function(){{\n",
    "      if(e.a==\"i\"){{\n",
    "        var p = e.i;\n",
    "        s.splice(p, 0, e.tk);\n",
    "        render(p, \"i\");\n",
    "      }} else {{\n",
    "        var p = (e.i===undefined || e.i<0 || e.i>=s.length) ? Math.floor(s.length/2) : e.i;\n",
    "        s[p] = e.tk; render(p, \"c\");\n",
    "      }}\n",
    "      setTimeout(render,600);\n",
    "    }}, e.t*5000);\n",
    "  }});\n",
    "}};\n",
    "document.getElementById(\"r\").onclick = run;\n",
    "run();\n",
    "</script>\n",
    "'''))"
   ]
  }
 ],
 "metadata": {
  "kernelspec": {
   "display_name": ".venv",
   "language": "python",
   "name": "python3"
  },
  "language_info": {
   "codemirror_mode": {
    "name": "ipython",
    "version": 3
   },
   "file_extension": ".py",
   "mimetype": "text/x-python",
   "name": "python",
   "nbconvert_exporter": "python",
   "pygments_lexer": "ipython3",
   "version": "3.11.5"
  }
 },
 "nbformat": 4,
 "nbformat_minor": 2
}
